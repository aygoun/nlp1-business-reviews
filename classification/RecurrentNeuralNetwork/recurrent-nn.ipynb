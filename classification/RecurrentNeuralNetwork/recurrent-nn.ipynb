{
 "cells": [
  {
   "cell_type": "code",
   "execution_count": null,
   "metadata": {
    "execution": {
     "iopub.execute_input": "2025-05-11T16:00:18.456439Z",
     "iopub.status.busy": "2025-05-11T16:00:18.455745Z",
     "iopub.status.idle": "2025-05-11T16:00:18.463620Z",
     "shell.execute_reply": "2025-05-11T16:00:18.463095Z",
     "shell.execute_reply.started": "2025-05-11T16:00:18.456418Z"
    },
    "trusted": true
   },
   "outputs": [
    {
     "name": "stderr",
     "output_type": "stream",
     "text": [
      "[nltk_data] Downloading package stopwords to /usr/share/nltk_data...\n",
      "[nltk_data]   Package stopwords is already up-to-date!\n",
      "[nltk_data] Downloading package wordnet to /usr/share/nltk_data...\n",
      "[nltk_data]   Package wordnet is already up-to-date!\n"
     ]
    },
    {
     "data": {
      "text/plain": [
       "True"
      ]
     },
     "execution_count": 40,
     "metadata": {},
     "output_type": "execute_result"
    }
   ],
   "source": [
    "import numpy as np\n",
    "import pandas as pd\n",
    "import matplotlib.pyplot as plt\n",
    "import seaborn as sns\n",
    "import tensorflow as tf\n",
    "import re\n",
    "import nltk\n",
    "from nltk.corpus import stopwords\n",
    "from nltk.stem import WordNetLemmatizer\n",
    "from tensorflow.keras.preprocessing.text import Tokenizer\n",
    "from tensorflow.keras.preprocessing.sequence import pad_sequences\n",
    "from tensorflow.keras.models import Sequential\n",
    "from tensorflow.keras.layers import Embedding, LSTM, Dense, Dropout, Bidirectional, SpatialDropout1D\n",
    "from tensorflow.keras.callbacks import EarlyStopping, ModelCheckpoint\n",
    "from sklearn.model_selection import train_test_split\n",
    "from sklearn.metrics import classification_report, confusion_matrix, accuracy_score\n",
    "\n",
    "nltk.download('stopwords')\n",
    "nltk.download('wordnet')"
   ]
  },
  {
   "cell_type": "code",
   "execution_count": null,
   "metadata": {
    "execution": {
     "iopub.execute_input": "2025-05-11T16:00:20.740799Z",
     "iopub.status.busy": "2025-05-11T16:00:20.740098Z",
     "iopub.status.idle": "2025-05-11T16:00:20.746228Z",
     "shell.execute_reply": "2025-05-11T16:00:20.745489Z",
     "shell.execute_reply.started": "2025-05-11T16:00:20.740778Z"
    },
    "trusted": true
   },
   "outputs": [],
   "source": [
    "# Fonctions de prétraitement du texte\n",
    "def clean_text(text):\n",
    "    # Minuscules\n",
    "    text = text.lower()\n",
    "    # Balises HTML\n",
    "    text = re.sub(r'<.*?>', '', text)\n",
    "    # Suppression des urls\n",
    "    text = re.sub(r'http\\S+|www\\S+|https\\S+', '', text)\n",
    "    # Suppression des caractères spéciaux et chiffres\n",
    "    text = re.sub(r'[^\\w\\s]', '', text)\n",
    "    text = re.sub(r'\\d+', '', text)\n",
    "    # Suppression des espaces\n",
    "    text = re.sub(r'\\s+', ' ', text)\n",
    "    return text.strip()\n",
    "\n",
    "def preprocess_text(text, remove_stopwords=True):\n",
    "    # Nettoyage du texte\n",
    "    text = clean_text(text)\n",
    "    \n",
    "    if remove_stopwords:\n",
    "        stop_words = set(stopwords.words('english'))\n",
    "        lemmatizer = WordNetLemmatizer()\n",
    "        words = text.split()\n",
    "        words = [lemmatizer.lemmatize(word) for word in words if word not in stop_words]\n",
    "        text = ' '.join(words)\n",
    "    \n",
    "    return text"
   ]
  },
  {
   "cell_type": "code",
   "execution_count": null,
   "metadata": {
    "execution": {
     "iopub.execute_input": "2025-05-11T16:00:27.055534Z",
     "iopub.status.busy": "2025-05-11T16:00:27.055254Z",
     "iopub.status.idle": "2025-05-11T16:00:27.184724Z",
     "shell.execute_reply": "2025-05-11T16:00:27.183878Z",
     "shell.execute_reply.started": "2025-05-11T16:00:27.055516Z"
    },
    "trusted": true
   },
   "outputs": [
    {
     "name": "stdout",
     "output_type": "stream",
     "text": [
      "Nombre total de critiques: 10698\n",
      "Distribution des notes:\n",
      "stars\n",
      "1     7.964105\n",
      "2    10.188820\n",
      "3    13.918489\n",
      "4    26.808749\n",
      "5    41.119835\n",
      "Name: proportion, dtype: float64\n"
     ]
    }
   ],
   "source": [
    "# Création du dataset simulé\n",
    "df = pd.read_json('/kaggle/input/reviews/yelp_subset_review.json', lines=True)\n",
    "\n",
    "print(f\"Nombre total de critiques: {len(df)}\")\n",
    "print(f\"Distribution des notes:\\n{df['stars'].value_counts(normalize=True).sort_index() * 100}\")"
   ]
  },
  {
   "cell_type": "code",
   "execution_count": 43,
   "metadata": {
    "execution": {
     "iopub.execute_input": "2025-05-11T16:00:29.213921Z",
     "iopub.status.busy": "2025-05-11T16:00:29.213377Z",
     "iopub.status.idle": "2025-05-11T16:00:33.187225Z",
     "shell.execute_reply": "2025-05-11T16:00:33.186668Z",
     "shell.execute_reply.started": "2025-05-11T16:00:29.213899Z"
    },
    "trusted": true
   },
   "outputs": [],
   "source": [
    "# Prétraitement du texte\n",
    "df['processed_review'] = df['text'].apply(preprocess_text)\n",
    "\n",
    "# Analyse de la longueur des critiques\n",
    "df['review_length'] = df['processed_review'].apply(lambda x: len(x.split()))"
   ]
  },
  {
   "cell_type": "code",
   "execution_count": 44,
   "metadata": {
    "execution": {
     "iopub.execute_input": "2025-05-11T16:00:34.415867Z",
     "iopub.status.busy": "2025-05-11T16:00:34.415176Z",
     "iopub.status.idle": "2025-05-11T16:00:34.428573Z",
     "shell.execute_reply": "2025-05-11T16:00:34.428002Z",
     "shell.execute_reply.started": "2025-05-11T16:00:34.415841Z"
    },
    "trusted": true
   },
   "outputs": [],
   "source": [
    "# Préparation des données pour le modèle\n",
    "X = df['processed_review'].values\n",
    "y = df['stars'].values\n",
    "\n",
    "# Division en ensembles d'entraînement, validation et test\n",
    "X_train, X_temp, y_train, y_temp = train_test_split(X, y, test_size=0.3, random_state=42, stratify=y)\n",
    "X_val, X_test, y_val, y_test = train_test_split(X_temp, y_temp, test_size=0.5, random_state=42, stratify=y_temp)"
   ]
  },
  {
   "cell_type": "code",
   "execution_count": null,
   "metadata": {
    "execution": {
     "iopub.execute_input": "2025-05-11T16:01:35.910974Z",
     "iopub.status.busy": "2025-05-11T16:01:35.910286Z",
     "iopub.status.idle": "2025-05-11T16:01:36.471622Z",
     "shell.execute_reply": "2025-05-11T16:01:36.471047Z",
     "shell.execute_reply.started": "2025-05-11T16:01:35.910951Z"
    },
    "trusted": true
   },
   "outputs": [],
   "source": [
    "# Configuration du tokenizer\n",
    "max_features = 5000  # Taille du vocabulaire\n",
    "maxlen = 200  # Longueur maximale des séquences\n",
    "\n",
    "tokenizer = Tokenizer(num_words=max_features)\n",
    "tokenizer.fit_on_texts(X_train)\n",
    "\n",
    "# Conversion des textes en séquences numériques\n",
    "X_train_seq = tokenizer.texts_to_sequences(X_train)\n",
    "X_val_seq = tokenizer.texts_to_sequences(X_val)\n",
    "X_test_seq = tokenizer.texts_to_sequences(X_test)\n",
    "\n",
    "X_train_pad = pad_sequences(X_train_seq, maxlen=maxlen)\n",
    "X_val_pad = pad_sequences(X_val_seq, maxlen=maxlen)\n",
    "X_test_pad = pad_sequences(X_test_seq, maxlen=maxlen)"
   ]
  },
  {
   "cell_type": "code",
   "execution_count": null,
   "metadata": {
    "execution": {
     "iopub.execute_input": "2025-05-11T16:01:37.568586Z",
     "iopub.status.busy": "2025-05-11T16:01:37.567915Z",
     "iopub.status.idle": "2025-05-11T16:01:37.615752Z",
     "shell.execute_reply": "2025-05-11T16:01:37.615184Z",
     "shell.execute_reply.started": "2025-05-11T16:01:37.568565Z"
    },
    "trusted": true
   },
   "outputs": [
    {
     "data": {
      "text/html": [
       "<pre style=\"white-space:pre;overflow-x:auto;line-height:normal;font-family:Menlo,'DejaVu Sans Mono',consolas,'Courier New',monospace\"><span style=\"font-weight: bold\">Model: \"sequential_6\"</span>\n",
       "</pre>\n"
      ],
      "text/plain": [
       "\u001b[1mModel: \"sequential_6\"\u001b[0m\n"
      ]
     },
     "metadata": {},
     "output_type": "display_data"
    },
    {
     "data": {
      "text/html": [
       "<pre style=\"white-space:pre;overflow-x:auto;line-height:normal;font-family:Menlo,'DejaVu Sans Mono',consolas,'Courier New',monospace\">┏━━━━━━━━━━━━━━━━━━━━━━━━━━━━━━━━━━━━━━┳━━━━━━━━━━━━━━━━━━━━━━━━━━━━━┳━━━━━━━━━━━━━━━━━┓\n",
       "┃<span style=\"font-weight: bold\"> Layer (type)                         </span>┃<span style=\"font-weight: bold\"> Output Shape                </span>┃<span style=\"font-weight: bold\">         Param # </span>┃\n",
       "┡━━━━━━━━━━━━━━━━━━━━━━━━━━━━━━━━━━━━━━╇━━━━━━━━━━━━━━━━━━━━━━━━━━━━━╇━━━━━━━━━━━━━━━━━┩\n",
       "│ embedding_6 (<span style=\"color: #0087ff; text-decoration-color: #0087ff\">Embedding</span>)              │ ?                           │     <span style=\"color: #00af00; text-decoration-color: #00af00\">0</span> (unbuilt) │\n",
       "├──────────────────────────────────────┼─────────────────────────────┼─────────────────┤\n",
       "│ spatial_dropout1d_6                  │ ?                           │     <span style=\"color: #00af00; text-decoration-color: #00af00\">0</span> (unbuilt) │\n",
       "│ (<span style=\"color: #0087ff; text-decoration-color: #0087ff\">SpatialDropout1D</span>)                   │                             │                 │\n",
       "├──────────────────────────────────────┼─────────────────────────────┼─────────────────┤\n",
       "│ bidirectional_12 (<span style=\"color: #0087ff; text-decoration-color: #0087ff\">Bidirectional</span>)     │ ?                           │     <span style=\"color: #00af00; text-decoration-color: #00af00\">0</span> (unbuilt) │\n",
       "├──────────────────────────────────────┼─────────────────────────────┼─────────────────┤\n",
       "│ bidirectional_13 (<span style=\"color: #0087ff; text-decoration-color: #0087ff\">Bidirectional</span>)     │ ?                           │     <span style=\"color: #00af00; text-decoration-color: #00af00\">0</span> (unbuilt) │\n",
       "├──────────────────────────────────────┼─────────────────────────────┼─────────────────┤\n",
       "│ dense_12 (<span style=\"color: #0087ff; text-decoration-color: #0087ff\">Dense</span>)                     │ ?                           │     <span style=\"color: #00af00; text-decoration-color: #00af00\">0</span> (unbuilt) │\n",
       "├──────────────────────────────────────┼─────────────────────────────┼─────────────────┤\n",
       "│ dropout_6 (<span style=\"color: #0087ff; text-decoration-color: #0087ff\">Dropout</span>)                  │ ?                           │     <span style=\"color: #00af00; text-decoration-color: #00af00\">0</span> (unbuilt) │\n",
       "├──────────────────────────────────────┼─────────────────────────────┼─────────────────┤\n",
       "│ dense_13 (<span style=\"color: #0087ff; text-decoration-color: #0087ff\">Dense</span>)                     │ ?                           │     <span style=\"color: #00af00; text-decoration-color: #00af00\">0</span> (unbuilt) │\n",
       "└──────────────────────────────────────┴─────────────────────────────┴─────────────────┘\n",
       "</pre>\n"
      ],
      "text/plain": [
       "┏━━━━━━━━━━━━━━━━━━━━━━━━━━━━━━━━━━━━━━┳━━━━━━━━━━━━━━━━━━━━━━━━━━━━━┳━━━━━━━━━━━━━━━━━┓\n",
       "┃\u001b[1m \u001b[0m\u001b[1mLayer (type)                        \u001b[0m\u001b[1m \u001b[0m┃\u001b[1m \u001b[0m\u001b[1mOutput Shape               \u001b[0m\u001b[1m \u001b[0m┃\u001b[1m \u001b[0m\u001b[1m        Param #\u001b[0m\u001b[1m \u001b[0m┃\n",
       "┡━━━━━━━━━━━━━━━━━━━━━━━━━━━━━━━━━━━━━━╇━━━━━━━━━━━━━━━━━━━━━━━━━━━━━╇━━━━━━━━━━━━━━━━━┩\n",
       "│ embedding_6 (\u001b[38;5;33mEmbedding\u001b[0m)              │ ?                           │     \u001b[38;5;34m0\u001b[0m (unbuilt) │\n",
       "├──────────────────────────────────────┼─────────────────────────────┼─────────────────┤\n",
       "│ spatial_dropout1d_6                  │ ?                           │     \u001b[38;5;34m0\u001b[0m (unbuilt) │\n",
       "│ (\u001b[38;5;33mSpatialDropout1D\u001b[0m)                   │                             │                 │\n",
       "├──────────────────────────────────────┼─────────────────────────────┼─────────────────┤\n",
       "│ bidirectional_12 (\u001b[38;5;33mBidirectional\u001b[0m)     │ ?                           │     \u001b[38;5;34m0\u001b[0m (unbuilt) │\n",
       "├──────────────────────────────────────┼─────────────────────────────┼─────────────────┤\n",
       "│ bidirectional_13 (\u001b[38;5;33mBidirectional\u001b[0m)     │ ?                           │     \u001b[38;5;34m0\u001b[0m (unbuilt) │\n",
       "├──────────────────────────────────────┼─────────────────────────────┼─────────────────┤\n",
       "│ dense_12 (\u001b[38;5;33mDense\u001b[0m)                     │ ?                           │     \u001b[38;5;34m0\u001b[0m (unbuilt) │\n",
       "├──────────────────────────────────────┼─────────────────────────────┼─────────────────┤\n",
       "│ dropout_6 (\u001b[38;5;33mDropout\u001b[0m)                  │ ?                           │     \u001b[38;5;34m0\u001b[0m (unbuilt) │\n",
       "├──────────────────────────────────────┼─────────────────────────────┼─────────────────┤\n",
       "│ dense_13 (\u001b[38;5;33mDense\u001b[0m)                     │ ?                           │     \u001b[38;5;34m0\u001b[0m (unbuilt) │\n",
       "└──────────────────────────────────────┴─────────────────────────────┴─────────────────┘\n"
      ]
     },
     "metadata": {},
     "output_type": "display_data"
    },
    {
     "data": {
      "text/html": [
       "<pre style=\"white-space:pre;overflow-x:auto;line-height:normal;font-family:Menlo,'DejaVu Sans Mono',consolas,'Courier New',monospace\"><span style=\"font-weight: bold\"> Total params: </span><span style=\"color: #00af00; text-decoration-color: #00af00\">0</span> (0.00 B)\n",
       "</pre>\n"
      ],
      "text/plain": [
       "\u001b[1m Total params: \u001b[0m\u001b[38;5;34m0\u001b[0m (0.00 B)\n"
      ]
     },
     "metadata": {},
     "output_type": "display_data"
    },
    {
     "data": {
      "text/html": [
       "<pre style=\"white-space:pre;overflow-x:auto;line-height:normal;font-family:Menlo,'DejaVu Sans Mono',consolas,'Courier New',monospace\"><span style=\"font-weight: bold\"> Trainable params: </span><span style=\"color: #00af00; text-decoration-color: #00af00\">0</span> (0.00 B)\n",
       "</pre>\n"
      ],
      "text/plain": [
       "\u001b[1m Trainable params: \u001b[0m\u001b[38;5;34m0\u001b[0m (0.00 B)\n"
      ]
     },
     "metadata": {},
     "output_type": "display_data"
    },
    {
     "data": {
      "text/html": [
       "<pre style=\"white-space:pre;overflow-x:auto;line-height:normal;font-family:Menlo,'DejaVu Sans Mono',consolas,'Courier New',monospace\"><span style=\"font-weight: bold\"> Non-trainable params: </span><span style=\"color: #00af00; text-decoration-color: #00af00\">0</span> (0.00 B)\n",
       "</pre>\n"
      ],
      "text/plain": [
       "\u001b[1m Non-trainable params: \u001b[0m\u001b[38;5;34m0\u001b[0m (0.00 B)\n"
      ]
     },
     "metadata": {},
     "output_type": "display_data"
    }
   ],
   "source": [
    "# Modèle RNN\n",
    "embedding_dims = 128\n",
    "vocab_size = min(max_features, len(tokenizer.word_index) + 1)\n",
    "\n",
    "model = Sequential()\n",
    "model.add(Embedding(vocab_size, embedding_dims))\n",
    "model.add(SpatialDropout1D(0.2))\n",
    "model.add(Bidirectional(LSTM(64, return_sequences=True)))\n",
    "model.add(Bidirectional(LSTM(32)))\n",
    "model.add(Dense(32, activation='relu'))\n",
    "model.add(Dropout(0.3))\n",
    "model.add(Dense(6, activation='softmax'))\n",
    "\n",
    "model.compile(\n",
    "    optimizer='adam',\n",
    "    loss='sparse_categorical_crossentropy',\n",
    "    metrics=['accuracy']\n",
    ")\n",
    "\n",
    "model.summary()\n",
    "\n",
    "early_stopping = EarlyStopping(\n",
    "    monitor='val_loss',\n",
    "    patience=3,\n",
    "    restore_best_weights=True\n",
    ")\n",
    "\n",
    "model_checkpoint = ModelCheckpoint(\n",
    "    'best_model.keras',\n",
    "    monitor='val_accuracy',\n",
    "    save_best_only=True,\n",
    "    mode='max'\n",
    ")"
   ]
  },
  {
   "cell_type": "code",
   "execution_count": 51,
   "metadata": {
    "execution": {
     "iopub.execute_input": "2025-05-11T16:01:42.878806Z",
     "iopub.status.busy": "2025-05-11T16:01:42.878197Z",
     "iopub.status.idle": "2025-05-11T16:02:18.224602Z",
     "shell.execute_reply": "2025-05-11T16:02:18.224045Z",
     "shell.execute_reply.started": "2025-05-11T16:01:42.878786Z"
    },
    "trusted": true
   },
   "outputs": [
    {
     "name": "stdout",
     "output_type": "stream",
     "text": [
      "Epoch 1/10\n",
      "\u001b[1m117/117\u001b[0m \u001b[32m━━━━━━━━━━━━━━━━━━━━\u001b[0m\u001b[37m\u001b[0m \u001b[1m13s\u001b[0m 55ms/step - accuracy: 0.4154 - loss: 1.5062 - val_accuracy: 0.5240 - val_loss: 1.1066\n",
      "Epoch 2/10\n",
      "\u001b[1m117/117\u001b[0m \u001b[32m━━━━━━━━━━━━━━━━━━━━\u001b[0m\u001b[37m\u001b[0m \u001b[1m6s\u001b[0m 49ms/step - accuracy: 0.5273 - loss: 1.0537 - val_accuracy: 0.5502 - val_loss: 0.9964\n",
      "Epoch 3/10\n",
      "\u001b[1m117/117\u001b[0m \u001b[32m━━━━━━━━━━━━━━━━━━━━\u001b[0m\u001b[37m\u001b[0m \u001b[1m6s\u001b[0m 49ms/step - accuracy: 0.6086 - loss: 0.8975 - val_accuracy: 0.5844 - val_loss: 1.0023\n",
      "Epoch 4/10\n",
      "\u001b[1m117/117\u001b[0m \u001b[32m━━━━━━━━━━━━━━━━━━━━\u001b[0m\u001b[37m\u001b[0m \u001b[1m6s\u001b[0m 48ms/step - accuracy: 0.6838 - loss: 0.7442 - val_accuracy: 0.5676 - val_loss: 1.0886\n",
      "Epoch 5/10\n",
      "\u001b[1m117/117\u001b[0m \u001b[32m━━━━━━━━━━━━━━━━━━━━\u001b[0m\u001b[37m\u001b[0m \u001b[1m6s\u001b[0m 48ms/step - accuracy: 0.7234 - loss: 0.6624 - val_accuracy: 0.5695 - val_loss: 1.1369\n"
     ]
    }
   ],
   "source": [
    "# Entraînement du modèle\n",
    "history = model.fit(\n",
    "    X_train_pad, y_train,\n",
    "    epochs=10,\n",
    "    batch_size=64,\n",
    "    validation_data=(X_val_pad, y_val),\n",
    "    callbacks=[early_stopping, model_checkpoint],\n",
    "    verbose=1\n",
    ")"
   ]
  },
  {
   "cell_type": "code",
   "execution_count": 52,
   "metadata": {
    "execution": {
     "iopub.execute_input": "2025-05-11T16:02:39.044411Z",
     "iopub.status.busy": "2025-05-11T16:02:39.043848Z",
     "iopub.status.idle": "2025-05-11T16:02:41.373203Z",
     "shell.execute_reply": "2025-05-11T16:02:41.372513Z",
     "shell.execute_reply.started": "2025-05-11T16:02:39.044391Z"
    },
    "trusted": true
   },
   "outputs": [
    {
     "name": "stdout",
     "output_type": "stream",
     "text": [
      "\u001b[1m51/51\u001b[0m \u001b[32m━━━━━━━━━━━━━━━━━━━━\u001b[0m\u001b[37m\u001b[0m \u001b[1m2s\u001b[0m 24ms/step\n",
      "\n",
      "Exactitude sur l'ensemble de test: 0.5427\n"
     ]
    }
   ],
   "source": [
    "# Évaluation sur l'ensemble de test\n",
    "y_pred_prob = model.predict(X_test_pad)\n",
    "y_pred = np.argmax(y_pred_prob, axis=1)\n",
    "\n",
    "# Métriques d'évaluation\n",
    "accuracy = accuracy_score(y_test, y_pred)\n",
    "print(f\"\\nExactitude sur l'ensemble de test: {accuracy:.4f}\")"
   ]
  },
  {
   "cell_type": "code",
   "execution_count": 53,
   "metadata": {
    "execution": {
     "iopub.execute_input": "2025-05-11T16:02:43.208478Z",
     "iopub.status.busy": "2025-05-11T16:02:43.207915Z",
     "iopub.status.idle": "2025-05-11T16:02:43.442697Z",
     "shell.execute_reply": "2025-05-11T16:02:43.442120Z",
     "shell.execute_reply.started": "2025-05-11T16:02:43.208457Z"
    },
    "trusted": true
   },
   "outputs": [
    {
     "name": "stdout",
     "output_type": "stream",
     "text": [
      "\n",
      "Rapport de classification:\n",
      "              precision    recall  f1-score   support\n",
      "\n",
      "   0 étoiles       0.31      0.75      0.44       128\n",
      "    1 étoile       0.37      0.11      0.17       164\n",
      "   2 étoiles       0.41      0.19      0.26       223\n",
      "   3 étoiles       0.48      0.36      0.41       430\n",
      "   4 étoiles       0.68      0.85      0.76       660\n",
      "\n",
      "    accuracy                           0.54      1605\n",
      "   macro avg       0.45      0.45      0.41      1605\n",
      "weighted avg       0.53      0.54      0.51      1605\n",
      "\n"
     ]
    },
    {
     "data": {
      "image/png": "[encoded data removed]",
      "text/plain": [
       "<Figure size 1000x800 with 2 Axes>"
      ]
     },
     "metadata": {},
     "output_type": "display_data"
    }
   ],
   "source": [
    "# Matrice de confusion\n",
    "plt.figure(figsize=(10, 8))\n",
    "cm = confusion_matrix(y_test, y_pred)\n",
    "sns.heatmap(cm, annot=True, fmt='d', cmap='Blues', xticklabels=range(5), yticklabels=range(5))\n",
    "\n",
    "# Rapport de classification détaillé\n",
    "print(\"\\nRapport de classification:\")\n",
    "print(classification_report(y_test, y_pred, target_names=['0 étoiles', '1 étoile', '2 étoiles', '3 étoiles', '4 étoiles']))"
   ]
  },
  {
   "cell_type": "code",
   "execution_count": null,
   "metadata": {
    "execution": {
     "iopub.execute_input": "2025-05-11T16:02:44.862402Z",
     "iopub.status.busy": "2025-05-11T16:02:44.861899Z",
     "iopub.status.idle": "2025-05-11T16:02:44.866523Z",
     "shell.execute_reply": "2025-05-11T16:02:44.865893Z",
     "shell.execute_reply.started": "2025-05-11T16:02:44.862381Z"
    },
    "trusted": true
   },
   "outputs": [],
   "source": [
    "# Fonction pour prédire la note d'une nouvelle critique\n",
    "def predict_review_rating(text, tokenizer, model, maxlen):\n",
    "    processed_text = preprocess_text(text)\n",
    "    \n",
    "    sequence = tokenizer.texts_to_sequences([processed_text])\n",
    "    padded = pad_sequences(sequence, maxlen=maxlen)\n",
    "    \n",
    "    prediction = model.predict(padded)[0]\n",
    "    rating = np.argmax(prediction)\n",
    "    confidence = prediction[rating]\n",
    "    \n",
    "    return rating, confidence, prediction"
   ]
  },
  {
   "cell_type": "code",
   "execution_count": null,
   "metadata": {
    "execution": {
     "iopub.execute_input": "2025-05-11T16:02:49.053008Z",
     "iopub.status.busy": "2025-05-11T16:02:49.052449Z",
     "iopub.status.idle": "2025-05-11T16:02:49.407793Z",
     "shell.execute_reply": "2025-05-11T16:02:49.407220Z",
     "shell.execute_reply.started": "2025-05-11T16:02:49.052987Z"
    },
    "trusted": true
   },
   "outputs": [
    {
     "name": "stdout",
     "output_type": "stream",
     "text": [
      "\n",
      "Prédictions sur des exemples:\n",
      "\u001b[1m1/1\u001b[0m \u001b[32m━━━━━━━━━━━━━━━━━━━━\u001b[0m\u001b[37m\u001b[0m \u001b[1m0s\u001b[0m 25ms/step\n",
      "Critique: Came here for a business dinner seminar. The staff was awesome and the food and cocktails were reall...\n",
      "Note prédite: 5 étoiles (confiance: 0.51)\n",
      "Probabilités par classe: [0.00315991 0.01394678 0.02407764 0.09143359 0.3620263  0.5053557 ]\n",
      "--------------------------------------------------\n",
      "\u001b[1m1/1\u001b[0m \u001b[32m━━━━━━━━━━━━━━━━━━━━\u001b[0m\u001b[37m\u001b[0m \u001b[1m0s\u001b[0m 24ms/step\n",
      "Critique: Never had a greater dinner in my life. Go !!!...\n",
      "Note prédite: 4 étoiles (confiance: 0.29)\n",
      "Probabilités par classe: [0.01547982 0.08799162 0.11452487 0.21547005 0.29430872 0.2722249 ]\n",
      "--------------------------------------------------\n",
      "\u001b[1m1/1\u001b[0m \u001b[32m━━━━━━━━━━━━━━━━━━━━\u001b[0m\u001b[37m\u001b[0m \u001b[1m0s\u001b[0m 25ms/step\n",
      "Critique: If you want to pay for everything a la carte this is the place for you.  \n",
      "Food wasn't terrible not i...\n",
      "Note prédite: 1 étoiles (confiance: 0.34)\n",
      "Probabilités par classe: [0.0159348  0.34467432 0.329163   0.21379712 0.07179248 0.0246383 ]\n",
      "--------------------------------------------------\n",
      "\u001b[1m1/1\u001b[0m \u001b[32m━━━━━━━━━━━━━━━━━━━━\u001b[0m\u001b[37m\u001b[0m \u001b[1m0s\u001b[0m 26ms/step\n",
      "Critique: I am a long term frequent customer of this establishment. I just went in to order take out (3 apps) ...\n",
      "Note prédite: 2 étoiles (confiance: 0.28)\n",
      "Probabilités par classe: [0.0235127  0.2541047  0.27693817 0.26231268 0.13300681 0.05012499]\n",
      "--------------------------------------------------\n",
      "Modèle et tokenizer sauvegardés avec succès!\n"
     ]
    }
   ],
   "source": [
    "test_reviews = [\n",
    "    \"Came here for a business dinner seminar. The staff was awesome and the food and cocktails were really good too.\",\n",
    "    \"Never had a greater dinner in my life. Go !!!\",\n",
    "    \"If you want to pay for everything a la carte this is the place for you.  \\nFood wasn't terrible not impressive.\\nThey brought a basket of chips and some tomato sauce which I asked politely for something spicier and some pico de gallo.  She brought them happily to me and the salsa was much better.  When asked what we would like to drink I asked for a coke and she brought out a bottle which I stated I wanted the fountain drink.  She said \\\"oh that's only Pepsi\\\".  Never mentioned that they only had bottle drinks for coke.  \\nWe ordered our food which was reasonably priced, asked for sour cream and also to put cheese on the taco.  She let us know cheese was extra.  \\nIt was $2.50 extra for another basket of chips.  \\nWhen I received the bill we paid more for the condiments then the actual food.  Side of sour cream 2.00, pico de gallo 2.50, salsa 2.00, chips 2.50, cheese 1.00 and the bottled coke that we didn't want 5.00.  \\nJust a suggestion...when you order anything make sure to ask if there is an extra charge.\",\n",
    "    \"I am a long term frequent customer of this establishment. I just went in to order take out (3 apps) and was told they're too busy to do it. Really? The place is maybe half full at best. Does your dick reach your ass? Yes? Go fuck yourself! I'm a frequent customer AND great tipper. Glad that Kanella just opened. NEVER going back to dmitris!\"\n",
    "]\n",
    "\n",
    "print(\"\\nPrédictions sur des exemples:\")\n",
    "for review in test_reviews:\n",
    "    rating, confidence, probs = predict_review_rating(review, tokenizer, model, maxlen)\n",
    "    print(f\"Critique: {review[:100]}...\")\n",
    "    print(f\"Note prédite: {rating} étoiles (confiance: {confidence:.2f})\")\n",
    "    print(f\"Probabilités par classe: {probs}\")\n",
    "    print(\"-\" * 50)\n",
    "\n",
    "model.save('yelp_rnn_classifier.h5')\n",
    "import pickle\n",
    "with open('tokenizer.pickle', 'wb') as handle:\n",
    "    pickle.dump(tokenizer, open('tokenizer.pickle', 'wb'))\n",
    "\n",
    "print(\"Modèle et tokenizer sauvegardés avec succès!\")"
   ]
  },
  {
   "cell_type": "code",
   "execution_count": null,
   "metadata": {
    "trusted": true
   },
   "outputs": [],
   "source": []
  }
 ],
 "metadata": {
  "kaggle": {
   "accelerator": "gpu",
   "dataSources": [
    {
     "datasetId": 7347398,
     "sourceId": 11705552,
     "sourceType": "datasetVersion"
    }
   ],
   "dockerImageVersionId": 31012,
   "isGpuEnabled": true,
   "isInternetEnabled": true,
   "language": "python",
   "sourceType": "notebook"
  },
  "kernelspec": {
   "display_name": "Python 3",
   "language": "python",
   "name": "python3"
  },
  "language_info": {
   "codemirror_mode": {
    "name": "ipython",
    "version": 3
   },
   "file_extension": ".py",
   "mimetype": "text/x-python",
   "name": "python",
   "nbconvert_exporter": "python",
   "pygments_lexer": "ipython3",
   "version": "3.11.11"
  }
 },
 "nbformat": 4,
 "nbformat_minor": 4
}
