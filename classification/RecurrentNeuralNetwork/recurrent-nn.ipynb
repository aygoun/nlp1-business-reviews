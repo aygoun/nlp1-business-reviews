{
 "cells": [
  {
   "cell_type": "code",
   "execution_count": null,
   "metadata": {
    "execution": {
     "iopub.execute_input": "2025-05-09T09:58:21.657542Z",
     "iopub.status.busy": "2025-05-09T09:58:21.657241Z",
     "iopub.status.idle": "2025-05-09T09:58:21.665270Z",
     "shell.execute_reply": "2025-05-09T09:58:21.664566Z",
     "shell.execute_reply.started": "2025-05-09T09:58:21.657518Z"
    },
    "trusted": true
   },
   "outputs": [
    {
     "name": "stderr",
     "output_type": "stream",
     "text": [
      "[nltk_data] Downloading package stopwords to /usr/share/nltk_data...\n",
      "[nltk_data]   Package stopwords is already up-to-date!\n",
      "[nltk_data] Downloading package wordnet to /usr/share/nltk_data...\n",
      "[nltk_data]   Package wordnet is already up-to-date!\n"
     ]
    },
    {
     "data": {
      "text/plain": [
       "True"
      ]
     },
     "execution_count": 2,
     "metadata": {},
     "output_type": "execute_result"
    }
   ],
   "source": [
    "import numpy as np\n",
    "import pandas as pd\n",
    "import matplotlib.pyplot as plt\n",
    "import seaborn as sns\n",
    "import tensorflow as tf\n",
    "import re\n",
    "import nltk\n",
    "from nltk.corpus import stopwords\n",
    "from nltk.stem import WordNetLemmatizer\n",
    "from tensorflow.keras.preprocessing.text import Tokenizer\n",
    "from tensorflow.keras.preprocessing.sequence import pad_sequences\n",
    "from tensorflow.keras.models import Sequential\n",
    "from tensorflow.keras.layers import Embedding, LSTM, Dense, Dropout, Bidirectional, SpatialDropout1D\n",
    "from tensorflow.keras.callbacks import EarlyStopping, ModelCheckpoint\n",
    "from sklearn.model_selection import train_test_split\n",
    "from sklearn.metrics import classification_report, confusion_matrix, accuracy_score\n",
    "\n",
    "nltk.download('stopwords')\n",
    "nltk.download('wordnet')"
   ]
  },
  {
   "cell_type": "code",
   "execution_count": null,
   "metadata": {
    "execution": {
     "iopub.execute_input": "2025-05-09T09:58:34.521255Z",
     "iopub.status.busy": "2025-05-09T09:58:34.520622Z",
     "iopub.status.idle": "2025-05-09T09:58:34.526708Z",
     "shell.execute_reply": "2025-05-09T09:58:34.526112Z",
     "shell.execute_reply.started": "2025-05-09T09:58:34.521230Z"
    },
    "trusted": true
   },
   "outputs": [],
   "source": [
    "# Fonctions de prétraitement du texte\n",
    "def clean_text(text):\n",
    "    # Minuscules\n",
    "    text = text.lower()\n",
    "    # Balises HTML\n",
    "    text = re.sub(r'<.*?>', '', text)\n",
    "    # Suppression des urls\n",
    "    text = re.sub(r'http\\S+|www\\S+|https\\S+', '', text)\n",
    "    # Suppression des caractères spéciaux et chiffres\n",
    "    text = re.sub(r'[^\\w\\s]', '', text)\n",
    "    text = re.sub(r'\\d+', '', text)\n",
    "    # Suppression des espaces\n",
    "    text = re.sub(r'\\s+', ' ', text)\n",
    "    return text.strip()\n",
    "\n",
    "def preprocess_text(text, remove_stopwords=True):\n",
    "    # Nettoyage du texte\n",
    "    text = clean_text(text)\n",
    "    \n",
    "    if remove_stopwords:\n",
    "        stop_words = set(stopwords.words('english'))\n",
    "        lemmatizer = WordNetLemmatizer()\n",
    "        words = text.split()\n",
    "        words = [lemmatizer.lemmatize(word) for word in words if word not in stop_words]\n",
    "        text = ' '.join(words)\n",
    "    \n",
    "    return text"
   ]
  },
  {
   "cell_type": "code",
   "execution_count": null,
   "metadata": {
    "execution": {
     "iopub.execute_input": "2025-05-09T09:58:42.127932Z",
     "iopub.status.busy": "2025-05-09T09:58:42.127655Z",
     "iopub.status.idle": "2025-05-09T09:58:42.353596Z",
     "shell.execute_reply": "2025-05-09T09:58:42.352832Z",
     "shell.execute_reply.started": "2025-05-09T09:58:42.127911Z"
    },
    "trusted": true
   },
   "outputs": [
    {
     "name": "stdout",
     "output_type": "stream",
     "text": [
      "Nombre total de critiques: 10698\n",
      "Distribution des notes:\n",
      "stars\n",
      "1     7.964105\n",
      "2    10.188820\n",
      "3    13.918489\n",
      "4    26.808749\n",
      "5    41.119835\n",
      "Name: proportion, dtype: float64\n"
     ]
    }
   ],
   "source": [
    "# Création du dataset simulé\n",
    "df = pd.read_json('../../data_set/yelp_subset_review.json', lines=True)\n",
    "\n",
    "print(f\"Nombre total de critiques: {len(df)}\")\n",
    "print(f\"Distribution des notes:\\n{df['stars'].value_counts(normalize=True).sort_index() * 100}\")"
   ]
  },
  {
   "cell_type": "code",
   "execution_count": 5,
   "metadata": {
    "execution": {
     "iopub.execute_input": "2025-05-09T09:58:52.105843Z",
     "iopub.status.busy": "2025-05-09T09:58:52.105234Z",
     "iopub.status.idle": "2025-05-09T09:58:58.962582Z",
     "shell.execute_reply": "2025-05-09T09:58:58.962002Z",
     "shell.execute_reply.started": "2025-05-09T09:58:52.105816Z"
    },
    "trusted": true
   },
   "outputs": [],
   "source": [
    "# Prétraitement du texte\n",
    "df['processed_review'] = df['text'].apply(preprocess_text)\n",
    "\n",
    "# Analyse de la longueur des critiques\n",
    "df['review_length'] = df['processed_review'].apply(lambda x: len(x.split()))"
   ]
  },
  {
   "cell_type": "code",
   "execution_count": 6,
   "metadata": {
    "execution": {
     "iopub.execute_input": "2025-05-09T09:59:38.400778Z",
     "iopub.status.busy": "2025-05-09T09:59:38.400179Z",
     "iopub.status.idle": "2025-05-09T09:59:38.413179Z",
     "shell.execute_reply": "2025-05-09T09:59:38.412569Z",
     "shell.execute_reply.started": "2025-05-09T09:59:38.400756Z"
    },
    "trusted": true
   },
   "outputs": [],
   "source": [
    "# Préparation des données pour le modèle\n",
    "X = df['processed_review'].values\n",
    "y = df['stars'].values\n",
    "\n",
    "# Division en ensembles d'entraînement, validation et test\n",
    "X_train, X_temp, y_train, y_temp = train_test_split(X, y, test_size=0.3, random_state=42, stratify=y)\n",
    "X_val, X_test, y_val, y_test = train_test_split(X_temp, y_temp, test_size=0.5, random_state=42, stratify=y_temp)"
   ]
  },
  {
   "cell_type": "code",
   "execution_count": null,
   "metadata": {
    "execution": {
     "iopub.execute_input": "2025-05-09T09:59:43.008416Z",
     "iopub.status.busy": "2025-05-09T09:59:43.007802Z",
     "iopub.status.idle": "2025-05-09T09:59:43.548408Z",
     "shell.execute_reply": "2025-05-09T09:59:43.547797Z",
     "shell.execute_reply.started": "2025-05-09T09:59:43.008392Z"
    },
    "trusted": true
   },
   "outputs": [],
   "source": [
    "# Configuration du tokenizer\n",
    "max_features = 5000  # Taille du vocabulaire\n",
    "maxlen = 150  # Longueur maximale des séquences\n",
    "\n",
    "tokenizer = Tokenizer(num_words=max_features)\n",
    "tokenizer.fit_on_texts(X_train)\n",
    "\n",
    "# Conversion des textes en séquences numériques\n",
    "X_train_seq = tokenizer.texts_to_sequences(X_train)\n",
    "X_val_seq = tokenizer.texts_to_sequences(X_val)\n",
    "X_test_seq = tokenizer.texts_to_sequences(X_test)\n",
    "\n",
    "X_train_pad = pad_sequences(X_train_seq, maxlen=maxlen)\n",
    "X_val_pad = pad_sequences(X_val_seq, maxlen=maxlen)\n",
    "X_test_pad = pad_sequences(X_test_seq, maxlen=maxlen)"
   ]
  },
  {
   "cell_type": "code",
   "execution_count": null,
   "metadata": {
    "execution": {
     "iopub.execute_input": "2025-05-09T10:00:09.793376Z",
     "iopub.status.busy": "2025-05-09T10:00:09.792674Z",
     "iopub.status.idle": "2025-05-09T10:00:10.958301Z",
     "shell.execute_reply": "2025-05-09T10:00:10.957764Z",
     "shell.execute_reply.started": "2025-05-09T10:00:09.793312Z"
    },
    "trusted": true
   },
   "outputs": [
    {
     "name": "stderr",
     "output_type": "stream",
     "text": [
      "I0000 00:00:1746784810.870730      31 gpu_device.cc:2022] Created device /job:localhost/replica:0/task:0/device:GPU:0 with 15513 MB memory:  -> device: 0, name: Tesla P100-PCIE-16GB, pci bus id: 0000:00:04.0, compute capability: 6.0\n"
     ]
    },
    {
     "data": {
      "text/html": [
       "<pre style=\"white-space:pre;overflow-x:auto;line-height:normal;font-family:Menlo,'DejaVu Sans Mono',consolas,'Courier New',monospace\"><span style=\"font-weight: bold\">Model: \"sequential\"</span>\n",
       "</pre>\n"
      ],
      "text/plain": [
       "\u001b[1mModel: \"sequential\"\u001b[0m\n"
      ]
     },
     "metadata": {},
     "output_type": "display_data"
    },
    {
     "data": {
      "text/html": [
       "<pre style=\"white-space:pre;overflow-x:auto;line-height:normal;font-family:Menlo,'DejaVu Sans Mono',consolas,'Courier New',monospace\">┏━━━━━━━━━━━━━━━━━━━━━━━━━━━━━━━━━━━━━━┳━━━━━━━━━━━━━━━━━━━━━━━━━━━━━┳━━━━━━━━━━━━━━━━━┓\n",
       "┃<span style=\"font-weight: bold\"> Layer (type)                         </span>┃<span style=\"font-weight: bold\"> Output Shape                </span>┃<span style=\"font-weight: bold\">         Param # </span>┃\n",
       "┡━━━━━━━━━━━━━━━━━━━━━━━━━━━━━━━━━━━━━━╇━━━━━━━━━━━━━━━━━━━━━━━━━━━━━╇━━━━━━━━━━━━━━━━━┩\n",
       "│ embedding (<span style=\"color: #0087ff; text-decoration-color: #0087ff\">Embedding</span>)                │ ?                           │     <span style=\"color: #00af00; text-decoration-color: #00af00\">0</span> (unbuilt) │\n",
       "├──────────────────────────────────────┼─────────────────────────────┼─────────────────┤\n",
       "│ spatial_dropout1d (<span style=\"color: #0087ff; text-decoration-color: #0087ff\">SpatialDropout1D</span>) │ ?                           │     <span style=\"color: #00af00; text-decoration-color: #00af00\">0</span> (unbuilt) │\n",
       "├──────────────────────────────────────┼─────────────────────────────┼─────────────────┤\n",
       "│ bidirectional (<span style=\"color: #0087ff; text-decoration-color: #0087ff\">Bidirectional</span>)        │ ?                           │     <span style=\"color: #00af00; text-decoration-color: #00af00\">0</span> (unbuilt) │\n",
       "├──────────────────────────────────────┼─────────────────────────────┼─────────────────┤\n",
       "│ bidirectional_1 (<span style=\"color: #0087ff; text-decoration-color: #0087ff\">Bidirectional</span>)      │ ?                           │     <span style=\"color: #00af00; text-decoration-color: #00af00\">0</span> (unbuilt) │\n",
       "├──────────────────────────────────────┼─────────────────────────────┼─────────────────┤\n",
       "│ dense (<span style=\"color: #0087ff; text-decoration-color: #0087ff\">Dense</span>)                        │ ?                           │     <span style=\"color: #00af00; text-decoration-color: #00af00\">0</span> (unbuilt) │\n",
       "├──────────────────────────────────────┼─────────────────────────────┼─────────────────┤\n",
       "│ dropout (<span style=\"color: #0087ff; text-decoration-color: #0087ff\">Dropout</span>)                    │ ?                           │     <span style=\"color: #00af00; text-decoration-color: #00af00\">0</span> (unbuilt) │\n",
       "├──────────────────────────────────────┼─────────────────────────────┼─────────────────┤\n",
       "│ dense_1 (<span style=\"color: #0087ff; text-decoration-color: #0087ff\">Dense</span>)                      │ ?                           │     <span style=\"color: #00af00; text-decoration-color: #00af00\">0</span> (unbuilt) │\n",
       "└──────────────────────────────────────┴─────────────────────────────┴─────────────────┘\n",
       "</pre>\n"
      ],
      "text/plain": [
       "┏━━━━━━━━━━━━━━━━━━━━━━━━━━━━━━━━━━━━━━┳━━━━━━━━━━━━━━━━━━━━━━━━━━━━━┳━━━━━━━━━━━━━━━━━┓\n",
       "┃\u001b[1m \u001b[0m\u001b[1mLayer (type)                        \u001b[0m\u001b[1m \u001b[0m┃\u001b[1m \u001b[0m\u001b[1mOutput Shape               \u001b[0m\u001b[1m \u001b[0m┃\u001b[1m \u001b[0m\u001b[1m        Param #\u001b[0m\u001b[1m \u001b[0m┃\n",
       "┡━━━━━━━━━━━━━━━━━━━━━━━━━━━━━━━━━━━━━━╇━━━━━━━━━━━━━━━━━━━━━━━━━━━━━╇━━━━━━━━━━━━━━━━━┩\n",
       "│ embedding (\u001b[38;5;33mEmbedding\u001b[0m)                │ ?                           │     \u001b[38;5;34m0\u001b[0m (unbuilt) │\n",
       "├──────────────────────────────────────┼─────────────────────────────┼─────────────────┤\n",
       "│ spatial_dropout1d (\u001b[38;5;33mSpatialDropout1D\u001b[0m) │ ?                           │     \u001b[38;5;34m0\u001b[0m (unbuilt) │\n",
       "├──────────────────────────────────────┼─────────────────────────────┼─────────────────┤\n",
       "│ bidirectional (\u001b[38;5;33mBidirectional\u001b[0m)        │ ?                           │     \u001b[38;5;34m0\u001b[0m (unbuilt) │\n",
       "├──────────────────────────────────────┼─────────────────────────────┼─────────────────┤\n",
       "│ bidirectional_1 (\u001b[38;5;33mBidirectional\u001b[0m)      │ ?                           │     \u001b[38;5;34m0\u001b[0m (unbuilt) │\n",
       "├──────────────────────────────────────┼─────────────────────────────┼─────────────────┤\n",
       "│ dense (\u001b[38;5;33mDense\u001b[0m)                        │ ?                           │     \u001b[38;5;34m0\u001b[0m (unbuilt) │\n",
       "├──────────────────────────────────────┼─────────────────────────────┼─────────────────┤\n",
       "│ dropout (\u001b[38;5;33mDropout\u001b[0m)                    │ ?                           │     \u001b[38;5;34m0\u001b[0m (unbuilt) │\n",
       "├──────────────────────────────────────┼─────────────────────────────┼─────────────────┤\n",
       "│ dense_1 (\u001b[38;5;33mDense\u001b[0m)                      │ ?                           │     \u001b[38;5;34m0\u001b[0m (unbuilt) │\n",
       "└──────────────────────────────────────┴─────────────────────────────┴─────────────────┘\n"
      ]
     },
     "metadata": {},
     "output_type": "display_data"
    },
    {
     "data": {
      "text/html": [
       "<pre style=\"white-space:pre;overflow-x:auto;line-height:normal;font-family:Menlo,'DejaVu Sans Mono',consolas,'Courier New',monospace\"><span style=\"font-weight: bold\"> Total params: </span><span style=\"color: #00af00; text-decoration-color: #00af00\">0</span> (0.00 B)\n",
       "</pre>\n"
      ],
      "text/plain": [
       "\u001b[1m Total params: \u001b[0m\u001b[38;5;34m0\u001b[0m (0.00 B)\n"
      ]
     },
     "metadata": {},
     "output_type": "display_data"
    },
    {
     "data": {
      "text/html": [
       "<pre style=\"white-space:pre;overflow-x:auto;line-height:normal;font-family:Menlo,'DejaVu Sans Mono',consolas,'Courier New',monospace\"><span style=\"font-weight: bold\"> Trainable params: </span><span style=\"color: #00af00; text-decoration-color: #00af00\">0</span> (0.00 B)\n",
       "</pre>\n"
      ],
      "text/plain": [
       "\u001b[1m Trainable params: \u001b[0m\u001b[38;5;34m0\u001b[0m (0.00 B)\n"
      ]
     },
     "metadata": {},
     "output_type": "display_data"
    },
    {
     "data": {
      "text/html": [
       "<pre style=\"white-space:pre;overflow-x:auto;line-height:normal;font-family:Menlo,'DejaVu Sans Mono',consolas,'Courier New',monospace\"><span style=\"font-weight: bold\"> Non-trainable params: </span><span style=\"color: #00af00; text-decoration-color: #00af00\">0</span> (0.00 B)\n",
       "</pre>\n"
      ],
      "text/plain": [
       "\u001b[1m Non-trainable params: \u001b[0m\u001b[38;5;34m0\u001b[0m (0.00 B)\n"
      ]
     },
     "metadata": {},
     "output_type": "display_data"
    }
   ],
   "source": [
    "# Modèle RNN\n",
    "embedding_dims = 128\n",
    "vocab_size = min(max_features, len(tokenizer.word_index) + 1)\n",
    "\n",
    "model = Sequential()\n",
    "model.add(Embedding(vocab_size, embedding_dims))\n",
    "model.add(SpatialDropout1D(0.2))\n",
    "model.add(Bidirectional(LSTM(64, return_sequences=True)))\n",
    "model.add(Bidirectional(LSTM(32)))\n",
    "model.add(Dense(32, activation='relu'))\n",
    "model.add(Dropout(0.3))\n",
    "model.add(Dense(6, activation='softmax'))\n",
    "\n",
    "model.compile(\n",
    "    optimizer='adam',\n",
    "    loss='sparse_categorical_crossentropy',\n",
    "    metrics=['accuracy']\n",
    ")\n",
    "\n",
    "model.summary()\n",
    "\n",
    "early_stopping = EarlyStopping(\n",
    "    monitor='val_loss',\n",
    "    patience=3,\n",
    "    restore_best_weights=True\n",
    ")\n",
    "\n",
    "model_checkpoint = ModelCheckpoint(\n",
    "    'best_model.keras',\n",
    "    monitor='val_accuracy',\n",
    "    save_best_only=True,\n",
    "    mode='max'\n",
    ")"
   ]
  },
  {
   "cell_type": "code",
   "execution_count": 9,
   "metadata": {
    "execution": {
     "iopub.execute_input": "2025-05-09T10:00:16.207717Z",
     "iopub.status.busy": "2025-05-09T10:00:16.207198Z",
     "iopub.status.idle": "2025-05-09T10:00:48.997265Z",
     "shell.execute_reply": "2025-05-09T10:00:48.996680Z",
     "shell.execute_reply.started": "2025-05-09T10:00:16.207692Z"
    },
    "trusted": true
   },
   "outputs": [
    {
     "name": "stdout",
     "output_type": "stream",
     "text": [
      "Epoch 1/10\n"
     ]
    },
    {
     "name": "stderr",
     "output_type": "stream",
     "text": [
      "I0000 00:00:1746784824.918182      92 cuda_dnn.cc:529] Loaded cuDNN version 90300\n"
     ]
    },
    {
     "name": "stdout",
     "output_type": "stream",
     "text": [
      "\u001b[1m117/117\u001b[0m \u001b[32m━━━━━━━━━━━━━━━━━━━━\u001b[0m\u001b[37m\u001b[0m \u001b[1m14s\u001b[0m 46ms/step - accuracy: 0.4109 - loss: 1.4864 - val_accuracy: 0.5470 - val_loss: 1.0483\n",
      "Epoch 2/10\n",
      "\u001b[1m117/117\u001b[0m \u001b[32m━━━━━━━━━━━━━━━━━━━━\u001b[0m\u001b[37m\u001b[0m \u001b[1m5s\u001b[0m 39ms/step - accuracy: 0.5322 - loss: 1.0129 - val_accuracy: 0.5551 - val_loss: 0.9859\n",
      "Epoch 3/10\n",
      "\u001b[1m117/117\u001b[0m \u001b[32m━━━━━━━━━━━━━━━━━━━━\u001b[0m\u001b[37m\u001b[0m \u001b[1m5s\u001b[0m 39ms/step - accuracy: 0.6243 - loss: 0.8426 - val_accuracy: 0.5720 - val_loss: 1.0112\n",
      "Epoch 4/10\n",
      "\u001b[1m117/117\u001b[0m \u001b[32m━━━━━━━━━━━━━━━━━━━━\u001b[0m\u001b[37m\u001b[0m \u001b[1m5s\u001b[0m 38ms/step - accuracy: 0.6954 - loss: 0.7290 - val_accuracy: 0.5688 - val_loss: 1.0493\n",
      "Epoch 5/10\n",
      "\u001b[1m117/117\u001b[0m \u001b[32m━━━━━━━━━━━━━━━━━━━━\u001b[0m\u001b[37m\u001b[0m \u001b[1m5s\u001b[0m 38ms/step - accuracy: 0.7431 - loss: 0.6236 - val_accuracy: 0.5558 - val_loss: 1.1560\n"
     ]
    }
   ],
   "source": [
    "# Entraînement du modèle\n",
    "history = model.fit(\n",
    "    X_train_pad, y_train,\n",
    "    epochs=10,\n",
    "    batch_size=64,\n",
    "    validation_data=(X_val_pad, y_val),\n",
    "    callbacks=[early_stopping, model_checkpoint],\n",
    "    verbose=1\n",
    ")"
   ]
  },
  {
   "cell_type": "code",
   "execution_count": 10,
   "metadata": {
    "execution": {
     "iopub.execute_input": "2025-05-09T10:08:02.300247Z",
     "iopub.status.busy": "2025-05-09T10:08:02.299946Z",
     "iopub.status.idle": "2025-05-09T10:08:03.919876Z",
     "shell.execute_reply": "2025-05-09T10:08:03.919079Z",
     "shell.execute_reply.started": "2025-05-09T10:08:02.300227Z"
    },
    "trusted": true
   },
   "outputs": [
    {
     "name": "stdout",
     "output_type": "stream",
     "text": [
      "\u001b[1m51/51\u001b[0m \u001b[32m━━━━━━━━━━━━━━━━━━━━\u001b[0m\u001b[37m\u001b[0m \u001b[1m2s\u001b[0m 21ms/step\n",
      "\n",
      "Exactitude sur l'ensemble de test: 0.5558\n"
     ]
    }
   ],
   "source": [
    "# Évaluation sur l'ensemble de test\n",
    "y_pred_prob = model.predict(X_test_pad)\n",
    "y_pred = np.argmax(y_pred_prob, axis=1)\n",
    "\n",
    "# Métriques d'évaluation\n",
    "accuracy = accuracy_score(y_test, y_pred)\n",
    "print(f\"\\nExactitude sur l'ensemble de test: {accuracy:.4f}\")"
   ]
  },
  {
   "cell_type": "code",
   "execution_count": 11,
   "metadata": {
    "execution": {
     "iopub.execute_input": "2025-05-09T10:08:07.403078Z",
     "iopub.status.busy": "2025-05-09T10:08:07.402810Z",
     "iopub.status.idle": "2025-05-09T10:08:07.712629Z",
     "shell.execute_reply": "2025-05-09T10:08:07.711963Z",
     "shell.execute_reply.started": "2025-05-09T10:08:07.403059Z"
    },
    "trusted": true
   },
   "outputs": [
    {
     "name": "stdout",
     "output_type": "stream",
     "text": [
      "\n",
      "Rapport de classification:\n",
      "              precision    recall  f1-score   support\n",
      "\n",
      "   0 étoiles       0.00      0.00      0.00       128\n",
      "    1 étoile       0.37      0.59      0.45       164\n",
      "   2 étoiles       0.42      0.43      0.42       223\n",
      "   3 étoiles       0.47      0.42      0.44       430\n",
      "   4 étoiles       0.72      0.79      0.75       660\n",
      "\n",
      "    accuracy                           0.56      1605\n",
      "   macro avg       0.39      0.44      0.41      1605\n",
      "weighted avg       0.51      0.56      0.53      1605\n",
      "\n"
     ]
    },
    {
     "name": "stderr",
     "output_type": "stream",
     "text": [
      "/usr/local/lib/python3.11/dist-packages/sklearn/metrics/_classification.py:1344: UndefinedMetricWarning: Precision and F-score are ill-defined and being set to 0.0 in labels with no predicted samples. Use `zero_division` parameter to control this behavior.\n",
      "  _warn_prf(average, modifier, msg_start, len(result))\n",
      "/usr/local/lib/python3.11/dist-packages/sklearn/metrics/_classification.py:1344: UndefinedMetricWarning: Precision and F-score are ill-defined and being set to 0.0 in labels with no predicted samples. Use `zero_division` parameter to control this behavior.\n",
      "  _warn_prf(average, modifier, msg_start, len(result))\n",
      "/usr/local/lib/python3.11/dist-packages/sklearn/metrics/_classification.py:1344: UndefinedMetricWarning: Precision and F-score are ill-defined and being set to 0.0 in labels with no predicted samples. Use `zero_division` parameter to control this behavior.\n",
      "  _warn_prf(average, modifier, msg_start, len(result))\n"
     ]
    },
    {
     "data": {
      "image/png": "[encoded data removed]",
      "text/plain": [
       "<Figure size 1000x800 with 2 Axes>"
      ]
     },
     "metadata": {},
     "output_type": "display_data"
    }
   ],
   "source": [
    "# Matrice de confusion\n",
    "plt.figure(figsize=(10, 8))\n",
    "cm = confusion_matrix(y_test, y_pred)\n",
    "sns.heatmap(cm, annot=True, fmt='d', cmap='Blues', xticklabels=range(5), yticklabels=range(5))\n",
    "\n",
    "# Rapport de classification détaillé\n",
    "print(\"\\nRapport de classification:\")\n",
    "print(classification_report(y_test, y_pred, target_names=['0 étoiles', '1 étoile', '2 étoiles', '3 étoiles', '4 étoiles']))"
   ]
  },
  {
   "cell_type": "code",
   "execution_count": null,
   "metadata": {
    "execution": {
     "iopub.execute_input": "2025-05-09T10:08:51.296587Z",
     "iopub.status.busy": "2025-05-09T10:08:51.296264Z",
     "iopub.status.idle": "2025-05-09T10:08:51.301426Z",
     "shell.execute_reply": "2025-05-09T10:08:51.300682Z",
     "shell.execute_reply.started": "2025-05-09T10:08:51.296566Z"
    },
    "trusted": true
   },
   "outputs": [],
   "source": [
    "# Fonction pour prédire la note d'une nouvelle critique\n",
    "def predict_review_rating(text, tokenizer, model, maxlen):\n",
    "    \"\"\"Prédit la note d'une critique Yelp\"\"\"\n",
    "    processed_text = preprocess_text(text)\n",
    "    \n",
    "    sequence = tokenizer.texts_to_sequences([processed_text])\n",
    "    padded = pad_sequences(sequence, maxlen=maxlen)\n",
    "    \n",
    "    prediction = model.predict(padded)[0]\n",
    "    rating = np.argmax(prediction)\n",
    "    confidence = prediction[rating]\n",
    "    \n",
    "    return rating, confidence, prediction"
   ]
  },
  {
   "cell_type": "code",
   "execution_count": null,
   "metadata": {
    "execution": {
     "iopub.execute_input": "2025-05-09T10:08:54.865412Z",
     "iopub.status.busy": "2025-05-09T10:08:54.864713Z",
     "iopub.status.idle": "2025-05-09T10:08:55.232956Z",
     "shell.execute_reply": "2025-05-09T10:08:55.232382Z",
     "shell.execute_reply.started": "2025-05-09T10:08:54.865386Z"
    },
    "trusted": true
   },
   "outputs": [
    {
     "name": "stdout",
     "output_type": "stream",
     "text": [
      "\n",
      "Prédictions sur des exemples:\n",
      "\u001b[1m1/1\u001b[0m \u001b[32m━━━━━━━━━━━━━━━━━━━━\u001b[0m\u001b[37m\u001b[0m \u001b[1m0s\u001b[0m 41ms/step\n",
      "Critique: Came here for a business dinner seminar. The staff was awesome and the food and cocktails were reall...\n",
      "Note prédite: 4 étoiles (confiance: 0.45)\n",
      "Probabilités par classe: [0.00232162 0.0118009  0.02425942 0.11724863 0.44759524 0.39677417]\n",
      "--------------------------------------------------\n",
      "\u001b[1m1/1\u001b[0m \u001b[32m━━━━━━━━━━━━━━━━━━━━\u001b[0m\u001b[37m\u001b[0m \u001b[1m0s\u001b[0m 23ms/step\n",
      "Critique: Never had a greater dinner in my life. Go !!!...\n",
      "Note prédite: 4 étoiles (confiance: 0.39)\n",
      "Probabilités par classe: [0.00770074 0.03672876 0.06658757 0.2261927  0.3936774  0.26911283]\n",
      "--------------------------------------------------\n",
      "\u001b[1m1/1\u001b[0m \u001b[32m━━━━━━━━━━━━━━━━━━━━\u001b[0m\u001b[37m\u001b[0m \u001b[1m0s\u001b[0m 24ms/step\n",
      "Critique: If you want to pay for everything a la carte this is the place for you.  \n",
      "Food wasn't terrible not i...\n",
      "Note prédite: 3 étoiles (confiance: 0.39)\n",
      "Probabilités par classe: [0.00293272 0.20973486 0.27563068 0.38526735 0.11236968 0.01406471]\n",
      "--------------------------------------------------\n",
      "\u001b[1m1/1\u001b[0m \u001b[32m━━━━━━━━━━━━━━━━━━━━\u001b[0m\u001b[37m\u001b[0m \u001b[1m0s\u001b[0m 24ms/step\n",
      "Critique: I am a long term frequent customer of this establishment. I just went in to order take out (3 apps) ...\n",
      "Note prédite: 3 étoiles (confiance: 0.33)\n",
      "Probabilités par classe: [0.00394862 0.2561799  0.3015611  0.3303978  0.0950272  0.01288542]\n",
      "--------------------------------------------------\n",
      "Modèle et tokenizer sauvegardés avec succès!\n"
     ]
    }
   ],
   "source": [
    "test_reviews = [\n",
    "    \"Came here for a business dinner seminar. The staff was awesome and the food and cocktails were really good too.\",\n",
    "    \"Never had a greater dinner in my life. Go !!!\",\n",
    "    \"If you want to pay for everything a la carte this is the place for you.  \\nFood wasn't terrible not impressive.\\nThey brought a basket of chips and some tomato sauce which I asked politely for something spicier and some pico de gallo.  She brought them happily to me and the salsa was much better.  When asked what we would like to drink I asked for a coke and she brought out a bottle which I stated I wanted the fountain drink.  She said \\\"oh that's only Pepsi\\\".  Never mentioned that they only had bottle drinks for coke.  \\nWe ordered our food which was reasonably priced, asked for sour cream and also to put cheese on the taco.  She let us know cheese was extra.  \\nIt was $2.50 extra for another basket of chips.  \\nWhen I received the bill we paid more for the condiments then the actual food.  Side of sour cream 2.00, pico de gallo 2.50, salsa 2.00, chips 2.50, cheese 1.00 and the bottled coke that we didn't want 5.00.  \\nJust a suggestion...when you order anything make sure to ask if there is an extra charge.\",\n",
    "    \"I am a long term frequent customer of this establishment. I just went in to order take out (3 apps) and was told they're too busy to do it. Really? The place is maybe half full at best. Does your dick reach your ass? Yes? Go fuck yourself! I'm a frequent customer AND great tipper. Glad that Kanella just opened. NEVER going back to dmitris!\"\n",
    "]\n",
    "\n",
    "print(\"\\nPrédictions sur des exemples:\")\n",
    "for review in test_reviews:\n",
    "    rating, confidence, probs = predict_review_rating(review, tokenizer, model, maxlen)\n",
    "    print(f\"Critique: {review[:100]}...\")\n",
    "    print(f\"Note prédite: {rating} étoiles (confiance: {confidence:.2f})\")\n",
    "    print(f\"Probabilités par classe: {probs}\")\n",
    "    print(\"-\" * 50)\n",
    "\n",
    "model.save('yelp_rnn_classifier.h5')\n",
    "import pickle\n",
    "with open('tokenizer.pickle', 'wb') as handle:\n",
    "    pickle.dump(tokenizer, open('tokenizer.pickle', 'wb'))\n",
    "\n",
    "print(\"Modèle et tokenizer sauvegardés avec succès!\")"
   ]
  },
  {
   "cell_type": "code",
   "execution_count": null,
   "metadata": {
    "trusted": true
   },
   "outputs": [],
   "source": []
  }
 ],
 "metadata": {
  "kaggle": {
   "accelerator": "gpu",
   "dataSources": [
    {
     "datasetId": 7347398,
     "sourceId": 11705552,
     "sourceType": "datasetVersion"
    }
   ],
   "dockerImageVersionId": 31012,
   "isGpuEnabled": true,
   "isInternetEnabled": true,
   "language": "python",
   "sourceType": "notebook"
  },
  "kernelspec": {
   "display_name": "Python 3",
   "language": "python",
   "name": "python3"
  },
  "language_info": {
   "codemirror_mode": {
    "name": "ipython",
    "version": 3
   },
   "file_extension": ".py",
   "mimetype": "text/x-python",
   "name": "python",
   "nbconvert_exporter": "python",
   "pygments_lexer": "ipython3",
   "version": "3.11.11"
  }
 },
 "nbformat": 4,
 "nbformat_minor": 4
}
